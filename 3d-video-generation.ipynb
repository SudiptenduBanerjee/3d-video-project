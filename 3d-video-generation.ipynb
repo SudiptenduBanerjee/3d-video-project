{
 "cells": [
  {
   "cell_type": "code",
   "execution_count": 1,
   "id": "51c1ad77",
   "metadata": {
    "execution": {
     "iopub.execute_input": "2025-05-21T15:58:44.978442Z",
     "iopub.status.busy": "2025-05-21T15:58:44.978183Z",
     "iopub.status.idle": "2025-05-21T15:58:55.098581Z",
     "shell.execute_reply": "2025-05-21T15:58:55.097724Z"
    },
    "papermill": {
     "duration": 10.124357,
     "end_time": "2025-05-21T15:58:55.099755",
     "exception": false,
     "start_time": "2025-05-21T15:58:44.975398",
     "status": "completed"
    },
    "tags": []
   },
   "outputs": [
    {
     "name": "stdout",
     "output_type": "stream",
     "text": [
      "Video saved as car_mountain_video.avi in /kaggle/working/\n"
     ]
    }
   ],
   "source": [
    "import numpy as np\n",
    "import matplotlib.pyplot as plt\n",
    "from mpl_toolkits.mplot3d import Axes3D\n",
    "import cv2\n",
    "from matplotlib.animation import FuncAnimation\n",
    "\n",
    "# Set up the figure and 3D axis\n",
    "fig = plt.figure(figsize=(10, 6))\n",
    "ax = fig.add_subplot(111, projection='3d')\n",
    "\n",
    "# Parameters for the animation\n",
    "frames = 100  # Number of frames for the animation\n",
    "car_speed = 0.1  # Speed of the car movement along x-axis\n",
    "\n",
    "# Function to plot a rectangular prism (used for car body and wheels)\n",
    "def plot_prism(ax, x, y, z, dx, dy, dz, color='b'):\n",
    "    xx = [x, x+dx, x+dx, x, x, x+dx, x+dx, x]\n",
    "    yy = [y, y, y+dy, y+dy, y, y, y+dy, y+dy]\n",
    "    zz = [z, z, z, z, z+dz, z+dz, z+dz, z+dz]\n",
    "    vertices = np.array([xx, yy, zz])\n",
    "    edges = [[0,1], [1,2], [2,3], [3,0], [4,5], [5,6], [6,7], [7,4], [0,4], [1,5], [2,6], [3,7]]\n",
    "    for edge in edges:\n",
    "        ax.plot(vertices[0, edge], vertices[1, edge], vertices[2, edge], color=color)\n",
    "\n",
    "# Function to plot a triangular mountain peak\n",
    "def plot_mountain(ax, x_base, y_base, z_base, width, depth, height, color='gray'):\n",
    "    x = [x_base, x_base + width, x_base + width/2]\n",
    "    y = [y_base, y_base, y_base + depth]\n",
    "    z = [z_base, z_base, z_base + height]\n",
    "    ax.plot_trisurf(x, y, z, color=color, alpha=0.8)\n",
    "\n",
    "# Initialize the scene\n",
    "def init():\n",
    "    ax.set_xlim(-10, 20)\n",
    "    ax.set_ylim(-10, 10)\n",
    "    ax.set_zlim(0, 10)\n",
    "    ax.set_xlabel('X')\n",
    "    ax.set_ylabel('Y')\n",
    "    ax.set_zlabel('Z')\n",
    "    \n",
    "    # Plot the mountains in the background (at z = 0, y = -5)\n",
    "    for x in range(-10, 15, 5):\n",
    "        plot_mountain(ax, x, -8, 0, 4, 4, np.random.uniform(5, 8), color='gray')\n",
    "    \n",
    "    return []\n",
    "\n",
    "# Update function for the animation\n",
    "def update(frame):\n",
    "    ax.cla()  # Clear the previous frame\n",
    "    init()  # Redraw the mountains and set limits\n",
    "    \n",
    "    # Car position (moves along x-axis)\n",
    "    car_x = -10 + frame * car_speed\n",
    "    \n",
    "    # Plot the car (body and wheels)\n",
    "    # Car body (rectangular prism)\n",
    "    plot_prism(ax, car_x, 0, 1, 4, 2, 1, color='blue')  # Main body\n",
    "    plot_prism(ax, car_x + 1, 0, 2, 2, 2, 0.5, color='blue')  # Cabin\n",
    "    \n",
    "    # Wheels (smaller prisms)\n",
    "    wheel_radius = 0.5\n",
    "    plot_prism(ax, car_x, 0, 0.5, 0.5, 0.5, wheel_radius, color='black')  # Front left\n",
    "    plot_prism(ax, car_x + 3.5, 0, 0.5, 0.5, 0.5, wheel_radius, color='black')  # Rear left\n",
    "    plot_prism(ax, car_x, 1.5, 0.5, 0.5, 0.5, wheel_radius, color='black')  # Front right\n",
    "    plot_prism(ax, car_x + 3.5, 1.5, 0.5, 0.5, 0.5, wheel_radius, color='black')  # Rear right\n",
    "    \n",
    "    return []\n",
    "\n",
    "# Create the animation\n",
    "ani = FuncAnimation(fig, update, frames=frames, init_func=init, blit=False)\n",
    "\n",
    "# Save frames as images and compile into a video\n",
    "frame_list = []\n",
    "for i in range(frames):\n",
    "    update(i)\n",
    "    fig.canvas.draw()\n",
    "    # Convert the plot to an image\n",
    "    image = np.frombuffer(fig.canvas.tostring_rgb(), dtype='uint8')\n",
    "    image = image.reshape(fig.canvas.get_width_height()[::-1] + (3,))\n",
    "    frame_list.append(image)\n",
    "\n",
    "# Use OpenCV to save the frames as a video\n",
    "height, width, _ = frame_list[0].shape\n",
    "fourcc = cv2.VideoWriter_fourcc(*'XVID')\n",
    "out = cv2.VideoWriter('/kaggle/working/car_mountain_video.avi', fourcc, 20.0, (width, height))\n",
    "for frame in frame_list:\n",
    "    out.write(frame)\n",
    "out.release()\n",
    "plt.close()\n",
    "\n",
    "print(\"Video saved as car_mountain_video.avi in /kaggle/working/\")"
   ]
  }
 ],
 "metadata": {
  "kaggle": {
   "accelerator": "none",
   "dataSources": [],
   "dockerImageVersionId": 31012,
   "isGpuEnabled": false,
   "isInternetEnabled": false,
   "language": "python",
   "sourceType": "notebook"
  },
  "kernelspec": {
   "display_name": "Python 3",
   "language": "python",
   "name": "python3"
  },
  "language_info": {
   "codemirror_mode": {
    "name": "ipython",
    "version": 3
   },
   "file_extension": ".py",
   "mimetype": "text/x-python",
   "name": "python",
   "nbconvert_exporter": "python",
   "pygments_lexer": "ipython3",
   "version": "3.11.11"
  },
  "papermill": {
   "default_parameters": {},
   "duration": 14.874362,
   "end_time": "2025-05-21T15:58:55.518575",
   "environment_variables": {},
   "exception": null,
   "input_path": "__notebook__.ipynb",
   "output_path": "__notebook__.ipynb",
   "parameters": {},
   "start_time": "2025-05-21T15:58:40.644213",
   "version": "2.6.0"
  }
 },
 "nbformat": 4,
 "nbformat_minor": 5
}
